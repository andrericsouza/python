{
 "cells": [
  {
   "cell_type": "markdown",
   "metadata": {
    "id": "ptjaqADEB_2b",
    "slideshow": {
     "slide_type": "slide"
    }
   },
   "source": [
    "# PYTHON JOIN\n",
    "\n",
    "### André Ricardo\n",
    "### <a href=\"http://www.andrericardo.com.br\">Site</a>\n",
    "### <a href=\"https://www.youtube.com/channel/UCmlOAr1Y0msRLpPyLrjGp-Q\">Youtube</a>\n",
    "### <a href=\"https://pandas.pydata.org/docs/reference/api/pandas.merge.html\">Documentação Pandas Merge</a>"
   ]
  },
  {
   "cell_type": "markdown",
   "metadata": {
    "id": "YDRdfTLzPQw0",
    "slideshow": {
     "slide_type": "slide"
    }
   },
   "source": [
    "## Apresentação"
   ]
  },
  {
   "cell_type": "markdown",
   "metadata": {
    "id": "H2acvCbmCJfK",
    "slideshow": {
     "slide_type": "notes"
    }
   },
   "source": [
    "Em algum momento dos seus estudos em python ou qualquer outra linguagem, você irá se deparar com o desafio de juntar dados. <br>\n",
    "Para isto é muito comum o uso de **join** ou **merge** nas linguagens para fazer esta conexão entre os dados.\n",
    "<br><br>\n",
    "Inevitavelmente você irá se deprar com esta imagem:\n",
    "\n",
    "\n",
    "\n"
   ]
  },
  {
   "cell_type": "markdown",
   "metadata": {
    "slideshow": {
     "slide_type": "fragment"
    }
   },
   "source": [
    "<img src='https://terminalroot.com.br/assets/img/mysql/joins-mysql.jpg' width=80%>"
   ]
  },
  {
   "cell_type": "markdown",
   "metadata": {
    "id": "DOius-scFRSP",
    "slideshow": {
     "slide_type": "slide"
    }
   },
   "source": [
    "## Instalação do pandas"
   ]
  },
  {
   "cell_type": "code",
   "execution_count": 1,
   "metadata": {
    "id": "9SqP4j91VJl9",
    "slideshow": {
     "slide_type": "fragment"
    }
   },
   "outputs": [
    {
     "name": "stdout",
     "output_type": "stream",
     "text": [
      "Página de código ativa: 1252\n",
      "Requirement already satisfied: pandas in d:\\anaconda\\lib\\site-packages (1.3.5)\n",
      "Requirement already satisfied: pytz>=2017.3 in d:\\anaconda\\lib\\site-packages (from pandas) (2020.1)\n",
      "Requirement already satisfied: numpy>=1.17.3; platform_machine != \"aarch64\" and platform_machine != \"arm64\" and python_version < \"3.10\" in d:\\anaconda\\lib\\site-packages (from pandas) (1.19.1)\n",
      "Requirement already satisfied: python-dateutil>=2.7.3 in d:\\anaconda\\lib\\site-packages (from pandas) (2.8.1)\n",
      "Requirement already satisfied: six>=1.5 in d:\\anaconda\\lib\\site-packages (from python-dateutil>=2.7.3->pandas) (1.15.0)\n"
     ]
    }
   ],
   "source": [
    "!pip install pandas"
   ]
  },
  {
   "cell_type": "markdown",
   "metadata": {
    "id": "V98l76npFf4K",
    "slideshow": {
     "slide_type": "slide"
    }
   },
   "source": [
    "## import do pandas"
   ]
  },
  {
   "cell_type": "code",
   "execution_count": 2,
   "metadata": {
    "id": "pBzoYbL4apbN",
    "slideshow": {
     "slide_type": "fragment"
    }
   },
   "outputs": [],
   "source": [
    "import pandas as pd"
   ]
  },
  {
   "cell_type": "markdown",
   "metadata": {
    "slideshow": {
     "slide_type": "fragment"
    }
   },
   "source": [
    "## Versão do pandas"
   ]
  },
  {
   "cell_type": "code",
   "execution_count": 3,
   "metadata": {
    "slideshow": {
     "slide_type": "fragment"
    }
   },
   "outputs": [
    {
     "name": "stdout",
     "output_type": "stream",
     "text": [
      "1.3.5\n"
     ]
    }
   ],
   "source": [
    "print(pd.__version__)"
   ]
  },
  {
   "cell_type": "markdown",
   "metadata": {
    "id": "bBlsRFB3GJgq",
    "slideshow": {
     "slide_type": "slide"
    }
   },
   "source": [
    "## Criando o dataframe tabela_A"
   ]
  },
  {
   "cell_type": "code",
   "execution_count": 4,
   "metadata": {
    "id": "yuHVe0nTa3UD",
    "slideshow": {
     "slide_type": "fragment"
    }
   },
   "outputs": [
    {
     "data": {
      "text/html": [
       "<div>\n",
       "<style scoped>\n",
       "    .dataframe tbody tr th:only-of-type {\n",
       "        vertical-align: middle;\n",
       "    }\n",
       "\n",
       "    .dataframe tbody tr th {\n",
       "        vertical-align: top;\n",
       "    }\n",
       "\n",
       "    .dataframe thead th {\n",
       "        text-align: right;\n",
       "    }\n",
       "</style>\n",
       "<table border=\"1\" class=\"dataframe\">\n",
       "  <thead>\n",
       "    <tr style=\"text-align: right;\">\n",
       "      <th></th>\n",
       "      <th>ID</th>\n",
       "      <th>Nome</th>\n",
       "    </tr>\n",
       "  </thead>\n",
       "  <tbody>\n",
       "    <tr>\n",
       "      <th>0</th>\n",
       "      <td>1</td>\n",
       "      <td>João</td>\n",
       "    </tr>\n",
       "    <tr>\n",
       "      <th>1</th>\n",
       "      <td>2</td>\n",
       "      <td>Mario</td>\n",
       "    </tr>\n",
       "    <tr>\n",
       "      <th>2</th>\n",
       "      <td>3</td>\n",
       "      <td>Pedro</td>\n",
       "    </tr>\n",
       "    <tr>\n",
       "      <th>3</th>\n",
       "      <td>4</td>\n",
       "      <td>Andre</td>\n",
       "    </tr>\n",
       "    <tr>\n",
       "      <th>4</th>\n",
       "      <td>5</td>\n",
       "      <td>Luiz</td>\n",
       "    </tr>\n",
       "    <tr>\n",
       "      <th>5</th>\n",
       "      <td>6</td>\n",
       "      <td>Carlos</td>\n",
       "    </tr>\n",
       "    <tr>\n",
       "      <th>6</th>\n",
       "      <td>7</td>\n",
       "      <td>Marcos</td>\n",
       "    </tr>\n",
       "    <tr>\n",
       "      <th>7</th>\n",
       "      <td>8</td>\n",
       "      <td>Rafael</td>\n",
       "    </tr>\n",
       "    <tr>\n",
       "      <th>8</th>\n",
       "      <td>9</td>\n",
       "      <td>Diego</td>\n",
       "    </tr>\n",
       "    <tr>\n",
       "      <th>9</th>\n",
       "      <td>10</td>\n",
       "      <td>Leandro</td>\n",
       "    </tr>\n",
       "  </tbody>\n",
       "</table>\n",
       "</div>"
      ],
      "text/plain": [
       "   ID     Nome\n",
       "0   1     João\n",
       "1   2    Mario\n",
       "2   3    Pedro\n",
       "3   4    Andre\n",
       "4   5     Luiz\n",
       "5   6   Carlos\n",
       "6   7   Marcos\n",
       "7   8   Rafael\n",
       "8   9    Diego\n",
       "9  10  Leandro"
      ]
     },
     "execution_count": 4,
     "metadata": {},
     "output_type": "execute_result"
    }
   ],
   "source": [
    "tabela_A = pd.DataFrame({'ID': range(1, 11),\n",
    "                         'Nome': ['João', 'Mario', 'Pedro', 'Andre', 'Luiz', 'Carlos', 'Marcos', 'Rafael', 'Diego', 'Leandro']})\n",
    "\n",
    "tabela_A"
   ]
  },
  {
   "cell_type": "markdown",
   "metadata": {
    "id": "kndYCdOCGOIZ",
    "slideshow": {
     "slide_type": "slide"
    }
   },
   "source": [
    "## Criando o dataframe tabela_B"
   ]
  },
  {
   "cell_type": "code",
   "execution_count": 5,
   "metadata": {
    "id": "NijP03BWa8aZ",
    "slideshow": {
     "slide_type": "fragment"
    }
   },
   "outputs": [
    {
     "data": {
      "text/html": [
       "<div>\n",
       "<style scoped>\n",
       "    .dataframe tbody tr th:only-of-type {\n",
       "        vertical-align: middle;\n",
       "    }\n",
       "\n",
       "    .dataframe tbody tr th {\n",
       "        vertical-align: top;\n",
       "    }\n",
       "\n",
       "    .dataframe thead th {\n",
       "        text-align: right;\n",
       "    }\n",
       "</style>\n",
       "<table border=\"1\" class=\"dataframe\">\n",
       "  <thead>\n",
       "    <tr style=\"text-align: right;\">\n",
       "      <th></th>\n",
       "      <th>ID</th>\n",
       "      <th>Nome</th>\n",
       "    </tr>\n",
       "  </thead>\n",
       "  <tbody>\n",
       "    <tr>\n",
       "      <th>0</th>\n",
       "      <td>2</td>\n",
       "      <td>Sofia</td>\n",
       "    </tr>\n",
       "    <tr>\n",
       "      <th>1</th>\n",
       "      <td>4</td>\n",
       "      <td>Deise</td>\n",
       "    </tr>\n",
       "    <tr>\n",
       "      <th>2</th>\n",
       "      <td>6</td>\n",
       "      <td>Luiza</td>\n",
       "    </tr>\n",
       "    <tr>\n",
       "      <th>3</th>\n",
       "      <td>8</td>\n",
       "      <td>Claudia</td>\n",
       "    </tr>\n",
       "    <tr>\n",
       "      <th>4</th>\n",
       "      <td>10</td>\n",
       "      <td>Beatriz</td>\n",
       "    </tr>\n",
       "    <tr>\n",
       "      <th>5</th>\n",
       "      <td>12</td>\n",
       "      <td>Vitória</td>\n",
       "    </tr>\n",
       "  </tbody>\n",
       "</table>\n",
       "</div>"
      ],
      "text/plain": [
       "   ID     Nome\n",
       "0   2    Sofia\n",
       "1   4    Deise\n",
       "2   6    Luiza\n",
       "3   8  Claudia\n",
       "4  10  Beatriz\n",
       "5  12  Vitória"
      ]
     },
     "execution_count": 5,
     "metadata": {},
     "output_type": "execute_result"
    }
   ],
   "source": [
    "tabela_B = pd.DataFrame({'ID': range(2, 13, 2),\n",
    "                         'Nome': ['Sofia', 'Deise', 'Luiza', 'Claudia', 'Beatriz', 'Vitória']})\n",
    "tabela_B"
   ]
  },
  {
   "cell_type": "markdown",
   "metadata": {
    "id": "RITOQFdTGeR0",
    "slideshow": {
     "slide_type": "slide"
    }
   },
   "source": [
    "## Inner Join\n",
    "<img src=\"https://terminalroot.com.br/assets/img/mysql/inner_join.jpg\">\n"
   ]
  },
  {
   "cell_type": "code",
   "execution_count": 6,
   "metadata": {
    "id": "fwQuhaztbDKM",
    "slideshow": {
     "slide_type": "subslide"
    }
   },
   "outputs": [
    {
     "name": "stdout",
     "output_type": "stream",
     "text": [
      "\n",
      "Resultado do Inner Join:\n"
     ]
    },
    {
     "data": {
      "text/html": [
       "<div>\n",
       "<style scoped>\n",
       "    .dataframe tbody tr th:only-of-type {\n",
       "        vertical-align: middle;\n",
       "    }\n",
       "\n",
       "    .dataframe tbody tr th {\n",
       "        vertical-align: top;\n",
       "    }\n",
       "\n",
       "    .dataframe thead th {\n",
       "        text-align: right;\n",
       "    }\n",
       "</style>\n",
       "<table border=\"1\" class=\"dataframe\">\n",
       "  <thead>\n",
       "    <tr style=\"text-align: right;\">\n",
       "      <th></th>\n",
       "      <th>ID</th>\n",
       "      <th>Nome_x</th>\n",
       "      <th>Nome_y</th>\n",
       "    </tr>\n",
       "  </thead>\n",
       "  <tbody>\n",
       "    <tr>\n",
       "      <th>0</th>\n",
       "      <td>2</td>\n",
       "      <td>Mario</td>\n",
       "      <td>Sofia</td>\n",
       "    </tr>\n",
       "    <tr>\n",
       "      <th>1</th>\n",
       "      <td>4</td>\n",
       "      <td>Andre</td>\n",
       "      <td>Deise</td>\n",
       "    </tr>\n",
       "    <tr>\n",
       "      <th>2</th>\n",
       "      <td>6</td>\n",
       "      <td>Carlos</td>\n",
       "      <td>Luiza</td>\n",
       "    </tr>\n",
       "    <tr>\n",
       "      <th>3</th>\n",
       "      <td>8</td>\n",
       "      <td>Rafael</td>\n",
       "      <td>Claudia</td>\n",
       "    </tr>\n",
       "    <tr>\n",
       "      <th>4</th>\n",
       "      <td>10</td>\n",
       "      <td>Leandro</td>\n",
       "      <td>Beatriz</td>\n",
       "    </tr>\n",
       "  </tbody>\n",
       "</table>\n",
       "</div>"
      ],
      "text/plain": [
       "   ID   Nome_x   Nome_y\n",
       "0   2    Mario    Sofia\n",
       "1   4    Andre    Deise\n",
       "2   6   Carlos    Luiza\n",
       "3   8   Rafael  Claudia\n",
       "4  10  Leandro  Beatriz"
      ]
     },
     "execution_count": 6,
     "metadata": {},
     "output_type": "execute_result"
    }
   ],
   "source": [
    "#inner_join = pd.merge(tabela_A, tabela_B, on='ID', how='inner')\n",
    "inner_join = pd.merge(tabela_A, tabela_B, on='ID')\n",
    "\n",
    "print(\"\\nResultado do Inner Join:\")\n",
    "inner_join"
   ]
  },
  {
   "cell_type": "markdown",
   "metadata": {
    "id": "jAStJyoPHJuI",
    "slideshow": {
     "slide_type": "slide"
    }
   },
   "source": [
    "## Left (Outer) Join\n",
    "\n",
    "<img src=\"https://terminalroot.com.br/assets/img/mysql/left_join.jpg\">"
   ]
  },
  {
   "cell_type": "code",
   "execution_count": 7,
   "metadata": {
    "id": "H0_3__u9bKp5",
    "slideshow": {
     "slide_type": "subslide"
    }
   },
   "outputs": [
    {
     "name": "stdout",
     "output_type": "stream",
     "text": [
      "\n",
      "Resultado do Left Join:\n"
     ]
    },
    {
     "data": {
      "text/html": [
       "<div>\n",
       "<style scoped>\n",
       "    .dataframe tbody tr th:only-of-type {\n",
       "        vertical-align: middle;\n",
       "    }\n",
       "\n",
       "    .dataframe tbody tr th {\n",
       "        vertical-align: top;\n",
       "    }\n",
       "\n",
       "    .dataframe thead th {\n",
       "        text-align: right;\n",
       "    }\n",
       "</style>\n",
       "<table border=\"1\" class=\"dataframe\">\n",
       "  <thead>\n",
       "    <tr style=\"text-align: right;\">\n",
       "      <th></th>\n",
       "      <th>ID</th>\n",
       "      <th>Nome_x</th>\n",
       "      <th>Nome_y</th>\n",
       "    </tr>\n",
       "  </thead>\n",
       "  <tbody>\n",
       "    <tr>\n",
       "      <th>0</th>\n",
       "      <td>1</td>\n",
       "      <td>João</td>\n",
       "      <td>NaN</td>\n",
       "    </tr>\n",
       "    <tr>\n",
       "      <th>1</th>\n",
       "      <td>2</td>\n",
       "      <td>Mario</td>\n",
       "      <td>Sofia</td>\n",
       "    </tr>\n",
       "    <tr>\n",
       "      <th>2</th>\n",
       "      <td>3</td>\n",
       "      <td>Pedro</td>\n",
       "      <td>NaN</td>\n",
       "    </tr>\n",
       "    <tr>\n",
       "      <th>3</th>\n",
       "      <td>4</td>\n",
       "      <td>Andre</td>\n",
       "      <td>Deise</td>\n",
       "    </tr>\n",
       "    <tr>\n",
       "      <th>4</th>\n",
       "      <td>5</td>\n",
       "      <td>Luiz</td>\n",
       "      <td>NaN</td>\n",
       "    </tr>\n",
       "    <tr>\n",
       "      <th>5</th>\n",
       "      <td>6</td>\n",
       "      <td>Carlos</td>\n",
       "      <td>Luiza</td>\n",
       "    </tr>\n",
       "    <tr>\n",
       "      <th>6</th>\n",
       "      <td>7</td>\n",
       "      <td>Marcos</td>\n",
       "      <td>NaN</td>\n",
       "    </tr>\n",
       "    <tr>\n",
       "      <th>7</th>\n",
       "      <td>8</td>\n",
       "      <td>Rafael</td>\n",
       "      <td>Claudia</td>\n",
       "    </tr>\n",
       "    <tr>\n",
       "      <th>8</th>\n",
       "      <td>9</td>\n",
       "      <td>Diego</td>\n",
       "      <td>NaN</td>\n",
       "    </tr>\n",
       "    <tr>\n",
       "      <th>9</th>\n",
       "      <td>10</td>\n",
       "      <td>Leandro</td>\n",
       "      <td>Beatriz</td>\n",
       "    </tr>\n",
       "  </tbody>\n",
       "</table>\n",
       "</div>"
      ],
      "text/plain": [
       "   ID   Nome_x   Nome_y\n",
       "0   1     João      NaN\n",
       "1   2    Mario    Sofia\n",
       "2   3    Pedro      NaN\n",
       "3   4    Andre    Deise\n",
       "4   5     Luiz      NaN\n",
       "5   6   Carlos    Luiza\n",
       "6   7   Marcos      NaN\n",
       "7   8   Rafael  Claudia\n",
       "8   9    Diego      NaN\n",
       "9  10  Leandro  Beatriz"
      ]
     },
     "execution_count": 7,
     "metadata": {},
     "output_type": "execute_result"
    }
   ],
   "source": [
    "left_join = pd.merge(tabela_A, tabela_B, on='ID', how='left')\n",
    "print(\"\\nResultado do Left Join:\")\n",
    "left_join"
   ]
  },
  {
   "cell_type": "markdown",
   "metadata": {
    "id": "ltKdmQZGHVsj",
    "slideshow": {
     "slide_type": "slide"
    }
   },
   "source": [
    "## Right (Outer) Join\n",
    "\n",
    "<img src=\"https://terminalroot.com.br/assets/img/mysql/right_join.jpg\">"
   ]
  },
  {
   "cell_type": "code",
   "execution_count": 8,
   "metadata": {
    "id": "QYlNJrU1bPah",
    "slideshow": {
     "slide_type": "subslide"
    }
   },
   "outputs": [
    {
     "name": "stdout",
     "output_type": "stream",
     "text": [
      "\n",
      "Resultado do Right Join:\n"
     ]
    },
    {
     "data": {
      "text/html": [
       "<div>\n",
       "<style scoped>\n",
       "    .dataframe tbody tr th:only-of-type {\n",
       "        vertical-align: middle;\n",
       "    }\n",
       "\n",
       "    .dataframe tbody tr th {\n",
       "        vertical-align: top;\n",
       "    }\n",
       "\n",
       "    .dataframe thead th {\n",
       "        text-align: right;\n",
       "    }\n",
       "</style>\n",
       "<table border=\"1\" class=\"dataframe\">\n",
       "  <thead>\n",
       "    <tr style=\"text-align: right;\">\n",
       "      <th></th>\n",
       "      <th>ID</th>\n",
       "      <th>Nome_x</th>\n",
       "      <th>Nome_y</th>\n",
       "    </tr>\n",
       "  </thead>\n",
       "  <tbody>\n",
       "    <tr>\n",
       "      <th>0</th>\n",
       "      <td>2</td>\n",
       "      <td>Mario</td>\n",
       "      <td>Sofia</td>\n",
       "    </tr>\n",
       "    <tr>\n",
       "      <th>1</th>\n",
       "      <td>4</td>\n",
       "      <td>Andre</td>\n",
       "      <td>Deise</td>\n",
       "    </tr>\n",
       "    <tr>\n",
       "      <th>2</th>\n",
       "      <td>6</td>\n",
       "      <td>Carlos</td>\n",
       "      <td>Luiza</td>\n",
       "    </tr>\n",
       "    <tr>\n",
       "      <th>3</th>\n",
       "      <td>8</td>\n",
       "      <td>Rafael</td>\n",
       "      <td>Claudia</td>\n",
       "    </tr>\n",
       "    <tr>\n",
       "      <th>4</th>\n",
       "      <td>10</td>\n",
       "      <td>Leandro</td>\n",
       "      <td>Beatriz</td>\n",
       "    </tr>\n",
       "    <tr>\n",
       "      <th>5</th>\n",
       "      <td>12</td>\n",
       "      <td>NaN</td>\n",
       "      <td>Vitória</td>\n",
       "    </tr>\n",
       "  </tbody>\n",
       "</table>\n",
       "</div>"
      ],
      "text/plain": [
       "   ID   Nome_x   Nome_y\n",
       "0   2    Mario    Sofia\n",
       "1   4    Andre    Deise\n",
       "2   6   Carlos    Luiza\n",
       "3   8   Rafael  Claudia\n",
       "4  10  Leandro  Beatriz\n",
       "5  12      NaN  Vitória"
      ]
     },
     "execution_count": 8,
     "metadata": {},
     "output_type": "execute_result"
    }
   ],
   "source": [
    "right_join = pd.merge(tabela_A, tabela_B, on='ID', how='right')\n",
    "print(\"\\nResultado do Right Join:\")\n",
    "right_join"
   ]
  },
  {
   "cell_type": "markdown",
   "metadata": {
    "id": "EXYZiFkSHcxs",
    "slideshow": {
     "slide_type": "slide"
    }
   },
   "source": [
    "## Full (Outer ) Join\n",
    "\n",
    "<img src=\"https://miro.medium.com/v2/resize:fit:526/format:webp/1*59vkO2OIEOLJ01kWdsezow.png\">"
   ]
  },
  {
   "cell_type": "code",
   "execution_count": 9,
   "metadata": {
    "id": "zFx1qzSnbTBN",
    "slideshow": {
     "slide_type": "subslide"
    }
   },
   "outputs": [
    {
     "name": "stdout",
     "output_type": "stream",
     "text": [
      "\n",
      "Resultado do Full Join:\n"
     ]
    },
    {
     "data": {
      "text/html": [
       "<div>\n",
       "<style scoped>\n",
       "    .dataframe tbody tr th:only-of-type {\n",
       "        vertical-align: middle;\n",
       "    }\n",
       "\n",
       "    .dataframe tbody tr th {\n",
       "        vertical-align: top;\n",
       "    }\n",
       "\n",
       "    .dataframe thead th {\n",
       "        text-align: right;\n",
       "    }\n",
       "</style>\n",
       "<table border=\"1\" class=\"dataframe\">\n",
       "  <thead>\n",
       "    <tr style=\"text-align: right;\">\n",
       "      <th></th>\n",
       "      <th>ID</th>\n",
       "      <th>Nome_x</th>\n",
       "      <th>Nome_y</th>\n",
       "    </tr>\n",
       "  </thead>\n",
       "  <tbody>\n",
       "    <tr>\n",
       "      <th>0</th>\n",
       "      <td>1</td>\n",
       "      <td>João</td>\n",
       "      <td>NaN</td>\n",
       "    </tr>\n",
       "    <tr>\n",
       "      <th>1</th>\n",
       "      <td>2</td>\n",
       "      <td>Mario</td>\n",
       "      <td>Sofia</td>\n",
       "    </tr>\n",
       "    <tr>\n",
       "      <th>2</th>\n",
       "      <td>3</td>\n",
       "      <td>Pedro</td>\n",
       "      <td>NaN</td>\n",
       "    </tr>\n",
       "    <tr>\n",
       "      <th>3</th>\n",
       "      <td>4</td>\n",
       "      <td>Andre</td>\n",
       "      <td>Deise</td>\n",
       "    </tr>\n",
       "    <tr>\n",
       "      <th>4</th>\n",
       "      <td>5</td>\n",
       "      <td>Luiz</td>\n",
       "      <td>NaN</td>\n",
       "    </tr>\n",
       "    <tr>\n",
       "      <th>5</th>\n",
       "      <td>6</td>\n",
       "      <td>Carlos</td>\n",
       "      <td>Luiza</td>\n",
       "    </tr>\n",
       "    <tr>\n",
       "      <th>6</th>\n",
       "      <td>7</td>\n",
       "      <td>Marcos</td>\n",
       "      <td>NaN</td>\n",
       "    </tr>\n",
       "    <tr>\n",
       "      <th>7</th>\n",
       "      <td>8</td>\n",
       "      <td>Rafael</td>\n",
       "      <td>Claudia</td>\n",
       "    </tr>\n",
       "    <tr>\n",
       "      <th>8</th>\n",
       "      <td>9</td>\n",
       "      <td>Diego</td>\n",
       "      <td>NaN</td>\n",
       "    </tr>\n",
       "    <tr>\n",
       "      <th>9</th>\n",
       "      <td>10</td>\n",
       "      <td>Leandro</td>\n",
       "      <td>Beatriz</td>\n",
       "    </tr>\n",
       "    <tr>\n",
       "      <th>10</th>\n",
       "      <td>12</td>\n",
       "      <td>NaN</td>\n",
       "      <td>Vitória</td>\n",
       "    </tr>\n",
       "  </tbody>\n",
       "</table>\n",
       "</div>"
      ],
      "text/plain": [
       "    ID   Nome_x   Nome_y\n",
       "0    1     João      NaN\n",
       "1    2    Mario    Sofia\n",
       "2    3    Pedro      NaN\n",
       "3    4    Andre    Deise\n",
       "4    5     Luiz      NaN\n",
       "5    6   Carlos    Luiza\n",
       "6    7   Marcos      NaN\n",
       "7    8   Rafael  Claudia\n",
       "8    9    Diego      NaN\n",
       "9   10  Leandro  Beatriz\n",
       "10  12      NaN  Vitória"
      ]
     },
     "execution_count": 9,
     "metadata": {},
     "output_type": "execute_result"
    }
   ],
   "source": [
    "full_join = pd.merge(tabela_A, tabela_B, on='ID', how='outer')\n",
    "print(\"\\nResultado do Full Join:\")\n",
    "full_join"
   ]
  },
  {
   "cell_type": "markdown",
   "metadata": {
    "id": "hI8rtVfnITXt",
    "slideshow": {
     "slide_type": "slide"
    }
   },
   "source": [
    "## Left Join Excluding Inner Join\n",
    "\n",
    "<img src=\"https://miro.medium.com/v2/resize:fit:522/format:webp/1*ifV1zpEoKv42FV0MQXpbyQ.png\">"
   ]
  },
  {
   "cell_type": "code",
   "execution_count": 10,
   "metadata": {
    "id": "7mDUoq_Qd9sf",
    "slideshow": {
     "slide_type": "subslide"
    }
   },
   "outputs": [
    {
     "data": {
      "text/html": [
       "<div>\n",
       "<style scoped>\n",
       "    .dataframe tbody tr th:only-of-type {\n",
       "        vertical-align: middle;\n",
       "    }\n",
       "\n",
       "    .dataframe tbody tr th {\n",
       "        vertical-align: top;\n",
       "    }\n",
       "\n",
       "    .dataframe thead th {\n",
       "        text-align: right;\n",
       "    }\n",
       "</style>\n",
       "<table border=\"1\" class=\"dataframe\">\n",
       "  <thead>\n",
       "    <tr style=\"text-align: right;\">\n",
       "      <th></th>\n",
       "      <th>ID</th>\n",
       "      <th>Nome_x</th>\n",
       "      <th>Nome_y</th>\n",
       "      <th>_merge</th>\n",
       "    </tr>\n",
       "  </thead>\n",
       "  <tbody>\n",
       "    <tr>\n",
       "      <th>0</th>\n",
       "      <td>1</td>\n",
       "      <td>João</td>\n",
       "      <td>NaN</td>\n",
       "      <td>left_only</td>\n",
       "    </tr>\n",
       "    <tr>\n",
       "      <th>1</th>\n",
       "      <td>2</td>\n",
       "      <td>Mario</td>\n",
       "      <td>Sofia</td>\n",
       "      <td>both</td>\n",
       "    </tr>\n",
       "    <tr>\n",
       "      <th>2</th>\n",
       "      <td>3</td>\n",
       "      <td>Pedro</td>\n",
       "      <td>NaN</td>\n",
       "      <td>left_only</td>\n",
       "    </tr>\n",
       "    <tr>\n",
       "      <th>3</th>\n",
       "      <td>4</td>\n",
       "      <td>Andre</td>\n",
       "      <td>Deise</td>\n",
       "      <td>both</td>\n",
       "    </tr>\n",
       "    <tr>\n",
       "      <th>4</th>\n",
       "      <td>5</td>\n",
       "      <td>Luiz</td>\n",
       "      <td>NaN</td>\n",
       "      <td>left_only</td>\n",
       "    </tr>\n",
       "    <tr>\n",
       "      <th>5</th>\n",
       "      <td>6</td>\n",
       "      <td>Carlos</td>\n",
       "      <td>Luiza</td>\n",
       "      <td>both</td>\n",
       "    </tr>\n",
       "    <tr>\n",
       "      <th>6</th>\n",
       "      <td>7</td>\n",
       "      <td>Marcos</td>\n",
       "      <td>NaN</td>\n",
       "      <td>left_only</td>\n",
       "    </tr>\n",
       "    <tr>\n",
       "      <th>7</th>\n",
       "      <td>8</td>\n",
       "      <td>Rafael</td>\n",
       "      <td>Claudia</td>\n",
       "      <td>both</td>\n",
       "    </tr>\n",
       "    <tr>\n",
       "      <th>8</th>\n",
       "      <td>9</td>\n",
       "      <td>Diego</td>\n",
       "      <td>NaN</td>\n",
       "      <td>left_only</td>\n",
       "    </tr>\n",
       "    <tr>\n",
       "      <th>9</th>\n",
       "      <td>10</td>\n",
       "      <td>Leandro</td>\n",
       "      <td>Beatriz</td>\n",
       "      <td>both</td>\n",
       "    </tr>\n",
       "    <tr>\n",
       "      <th>10</th>\n",
       "      <td>12</td>\n",
       "      <td>NaN</td>\n",
       "      <td>Vitória</td>\n",
       "      <td>right_only</td>\n",
       "    </tr>\n",
       "  </tbody>\n",
       "</table>\n",
       "</div>"
      ],
      "text/plain": [
       "    ID   Nome_x   Nome_y      _merge\n",
       "0    1     João      NaN   left_only\n",
       "1    2    Mario    Sofia        both\n",
       "2    3    Pedro      NaN   left_only\n",
       "3    4    Andre    Deise        both\n",
       "4    5     Luiz      NaN   left_only\n",
       "5    6   Carlos    Luiza        both\n",
       "6    7   Marcos      NaN   left_only\n",
       "7    8   Rafael  Claudia        both\n",
       "8    9    Diego      NaN   left_only\n",
       "9   10  Leandro  Beatriz        both\n",
       "10  12      NaN  Vitória  right_only"
      ]
     },
     "execution_count": 10,
     "metadata": {},
     "output_type": "execute_result"
    }
   ],
   "source": [
    "left_join_tmp = pd.merge(tabela_A, tabela_B, on=['ID'], how=\"outer\", indicator=True)\n",
    "left_join_tmp"
   ]
  },
  {
   "cell_type": "code",
   "execution_count": 11,
   "metadata": {
    "id": "M1F26maud-WO",
    "slideshow": {
     "slide_type": "subslide"
    }
   },
   "outputs": [
    {
     "data": {
      "text/html": [
       "<div>\n",
       "<style scoped>\n",
       "    .dataframe tbody tr th:only-of-type {\n",
       "        vertical-align: middle;\n",
       "    }\n",
       "\n",
       "    .dataframe tbody tr th {\n",
       "        vertical-align: top;\n",
       "    }\n",
       "\n",
       "    .dataframe thead th {\n",
       "        text-align: right;\n",
       "    }\n",
       "</style>\n",
       "<table border=\"1\" class=\"dataframe\">\n",
       "  <thead>\n",
       "    <tr style=\"text-align: right;\">\n",
       "      <th></th>\n",
       "      <th>ID</th>\n",
       "      <th>Nome_x</th>\n",
       "      <th>Nome_y</th>\n",
       "      <th>_merge</th>\n",
       "    </tr>\n",
       "  </thead>\n",
       "  <tbody>\n",
       "    <tr>\n",
       "      <th>0</th>\n",
       "      <td>1</td>\n",
       "      <td>João</td>\n",
       "      <td>NaN</td>\n",
       "      <td>left_only</td>\n",
       "    </tr>\n",
       "    <tr>\n",
       "      <th>2</th>\n",
       "      <td>3</td>\n",
       "      <td>Pedro</td>\n",
       "      <td>NaN</td>\n",
       "      <td>left_only</td>\n",
       "    </tr>\n",
       "    <tr>\n",
       "      <th>4</th>\n",
       "      <td>5</td>\n",
       "      <td>Luiz</td>\n",
       "      <td>NaN</td>\n",
       "      <td>left_only</td>\n",
       "    </tr>\n",
       "    <tr>\n",
       "      <th>6</th>\n",
       "      <td>7</td>\n",
       "      <td>Marcos</td>\n",
       "      <td>NaN</td>\n",
       "      <td>left_only</td>\n",
       "    </tr>\n",
       "    <tr>\n",
       "      <th>8</th>\n",
       "      <td>9</td>\n",
       "      <td>Diego</td>\n",
       "      <td>NaN</td>\n",
       "      <td>left_only</td>\n",
       "    </tr>\n",
       "  </tbody>\n",
       "</table>\n",
       "</div>"
      ],
      "text/plain": [
       "   ID  Nome_x Nome_y     _merge\n",
       "0   1    João    NaN  left_only\n",
       "2   3   Pedro    NaN  left_only\n",
       "4   5    Luiz    NaN  left_only\n",
       "6   7  Marcos    NaN  left_only\n",
       "8   9   Diego    NaN  left_only"
      ]
     },
     "execution_count": 11,
     "metadata": {},
     "output_type": "execute_result"
    }
   ],
   "source": [
    "left_join_excluding = pd.merge(tabela_A, tabela_B, on=['ID'], how=\"outer\", indicator=True).query('_merge==\"left_only\"')\n",
    "left_join_excluding"
   ]
  },
  {
   "cell_type": "markdown",
   "metadata": {
    "id": "vId-MbRqIjl6",
    "slideshow": {
     "slide_type": "slide"
    }
   },
   "source": [
    "## Right Join Excluding Inner Join\n",
    "\n",
    "<img src=\"https://miro.medium.com/v2/resize:fit:526/format:webp/1*Cne0Pc2j5jE3O2lV-SqBLg.png\">"
   ]
  },
  {
   "cell_type": "code",
   "execution_count": 12,
   "metadata": {
    "id": "MdN_6KZffj-P",
    "slideshow": {
     "slide_type": "subslide"
    }
   },
   "outputs": [
    {
     "data": {
      "text/html": [
       "<div>\n",
       "<style scoped>\n",
       "    .dataframe tbody tr th:only-of-type {\n",
       "        vertical-align: middle;\n",
       "    }\n",
       "\n",
       "    .dataframe tbody tr th {\n",
       "        vertical-align: top;\n",
       "    }\n",
       "\n",
       "    .dataframe thead th {\n",
       "        text-align: right;\n",
       "    }\n",
       "</style>\n",
       "<table border=\"1\" class=\"dataframe\">\n",
       "  <thead>\n",
       "    <tr style=\"text-align: right;\">\n",
       "      <th></th>\n",
       "      <th>ID</th>\n",
       "      <th>Nome_x</th>\n",
       "      <th>Nome_y</th>\n",
       "      <th>_merge</th>\n",
       "    </tr>\n",
       "  </thead>\n",
       "  <tbody>\n",
       "    <tr>\n",
       "      <th>0</th>\n",
       "      <td>1</td>\n",
       "      <td>João</td>\n",
       "      <td>NaN</td>\n",
       "      <td>left_only</td>\n",
       "    </tr>\n",
       "    <tr>\n",
       "      <th>1</th>\n",
       "      <td>2</td>\n",
       "      <td>Mario</td>\n",
       "      <td>Sofia</td>\n",
       "      <td>both</td>\n",
       "    </tr>\n",
       "    <tr>\n",
       "      <th>2</th>\n",
       "      <td>3</td>\n",
       "      <td>Pedro</td>\n",
       "      <td>NaN</td>\n",
       "      <td>left_only</td>\n",
       "    </tr>\n",
       "    <tr>\n",
       "      <th>3</th>\n",
       "      <td>4</td>\n",
       "      <td>Andre</td>\n",
       "      <td>Deise</td>\n",
       "      <td>both</td>\n",
       "    </tr>\n",
       "    <tr>\n",
       "      <th>4</th>\n",
       "      <td>5</td>\n",
       "      <td>Luiz</td>\n",
       "      <td>NaN</td>\n",
       "      <td>left_only</td>\n",
       "    </tr>\n",
       "    <tr>\n",
       "      <th>5</th>\n",
       "      <td>6</td>\n",
       "      <td>Carlos</td>\n",
       "      <td>Luiza</td>\n",
       "      <td>both</td>\n",
       "    </tr>\n",
       "    <tr>\n",
       "      <th>6</th>\n",
       "      <td>7</td>\n",
       "      <td>Marcos</td>\n",
       "      <td>NaN</td>\n",
       "      <td>left_only</td>\n",
       "    </tr>\n",
       "    <tr>\n",
       "      <th>7</th>\n",
       "      <td>8</td>\n",
       "      <td>Rafael</td>\n",
       "      <td>Claudia</td>\n",
       "      <td>both</td>\n",
       "    </tr>\n",
       "    <tr>\n",
       "      <th>8</th>\n",
       "      <td>9</td>\n",
       "      <td>Diego</td>\n",
       "      <td>NaN</td>\n",
       "      <td>left_only</td>\n",
       "    </tr>\n",
       "    <tr>\n",
       "      <th>9</th>\n",
       "      <td>10</td>\n",
       "      <td>Leandro</td>\n",
       "      <td>Beatriz</td>\n",
       "      <td>both</td>\n",
       "    </tr>\n",
       "    <tr>\n",
       "      <th>10</th>\n",
       "      <td>12</td>\n",
       "      <td>NaN</td>\n",
       "      <td>Vitória</td>\n",
       "      <td>right_only</td>\n",
       "    </tr>\n",
       "  </tbody>\n",
       "</table>\n",
       "</div>"
      ],
      "text/plain": [
       "    ID   Nome_x   Nome_y      _merge\n",
       "0    1     João      NaN   left_only\n",
       "1    2    Mario    Sofia        both\n",
       "2    3    Pedro      NaN   left_only\n",
       "3    4    Andre    Deise        both\n",
       "4    5     Luiz      NaN   left_only\n",
       "5    6   Carlos    Luiza        both\n",
       "6    7   Marcos      NaN   left_only\n",
       "7    8   Rafael  Claudia        both\n",
       "8    9    Diego      NaN   left_only\n",
       "9   10  Leandro  Beatriz        both\n",
       "10  12      NaN  Vitória  right_only"
      ]
     },
     "execution_count": 12,
     "metadata": {},
     "output_type": "execute_result"
    }
   ],
   "source": [
    "right_join_tmp = pd.merge(tabela_A, tabela_B, on=['ID'], how=\"outer\", indicator=True)\n",
    "right_join_tmp"
   ]
  },
  {
   "cell_type": "code",
   "execution_count": 13,
   "metadata": {
    "id": "WwpL2BPEfnsJ",
    "slideshow": {
     "slide_type": "subslide"
    }
   },
   "outputs": [
    {
     "data": {
      "text/html": [
       "<div>\n",
       "<style scoped>\n",
       "    .dataframe tbody tr th:only-of-type {\n",
       "        vertical-align: middle;\n",
       "    }\n",
       "\n",
       "    .dataframe tbody tr th {\n",
       "        vertical-align: top;\n",
       "    }\n",
       "\n",
       "    .dataframe thead th {\n",
       "        text-align: right;\n",
       "    }\n",
       "</style>\n",
       "<table border=\"1\" class=\"dataframe\">\n",
       "  <thead>\n",
       "    <tr style=\"text-align: right;\">\n",
       "      <th></th>\n",
       "      <th>ID</th>\n",
       "      <th>Nome_x</th>\n",
       "      <th>Nome_y</th>\n",
       "      <th>_merge</th>\n",
       "    </tr>\n",
       "  </thead>\n",
       "  <tbody>\n",
       "    <tr>\n",
       "      <th>10</th>\n",
       "      <td>12</td>\n",
       "      <td>NaN</td>\n",
       "      <td>Vitória</td>\n",
       "      <td>right_only</td>\n",
       "    </tr>\n",
       "  </tbody>\n",
       "</table>\n",
       "</div>"
      ],
      "text/plain": [
       "    ID Nome_x   Nome_y      _merge\n",
       "10  12    NaN  Vitória  right_only"
      ]
     },
     "execution_count": 13,
     "metadata": {},
     "output_type": "execute_result"
    }
   ],
   "source": [
    "right_join_excluding = pd.merge(tabela_A, tabela_B, on=['ID'], how=\"outer\", indicator=True).query('_merge==\"right_only\"')\n",
    "right_join_excluding"
   ]
  },
  {
   "cell_type": "markdown",
   "metadata": {
    "id": "21ABjxbSIp_q",
    "slideshow": {
     "slide_type": "slide"
    }
   },
   "source": [
    "## Full ( Outer ) Join Excluding Inner Join\n",
    "\n",
    "<img src=\"https://miro.medium.com/v2/resize:fit:524/format:webp/1*Tiui48QBP8DTl9EcWSP9TA.png\">"
   ]
  },
  {
   "cell_type": "code",
   "execution_count": 14,
   "metadata": {
    "id": "aoV1qZ0yjjlY",
    "slideshow": {
     "slide_type": "subslide"
    }
   },
   "outputs": [
    {
     "data": {
      "text/html": [
       "<div>\n",
       "<style scoped>\n",
       "    .dataframe tbody tr th:only-of-type {\n",
       "        vertical-align: middle;\n",
       "    }\n",
       "\n",
       "    .dataframe tbody tr th {\n",
       "        vertical-align: top;\n",
       "    }\n",
       "\n",
       "    .dataframe thead th {\n",
       "        text-align: right;\n",
       "    }\n",
       "</style>\n",
       "<table border=\"1\" class=\"dataframe\">\n",
       "  <thead>\n",
       "    <tr style=\"text-align: right;\">\n",
       "      <th></th>\n",
       "      <th>ID</th>\n",
       "      <th>Nome</th>\n",
       "    </tr>\n",
       "  </thead>\n",
       "  <tbody>\n",
       "    <tr>\n",
       "      <th>0</th>\n",
       "      <td>1</td>\n",
       "      <td>João</td>\n",
       "    </tr>\n",
       "    <tr>\n",
       "      <th>2</th>\n",
       "      <td>3</td>\n",
       "      <td>Pedro</td>\n",
       "    </tr>\n",
       "    <tr>\n",
       "      <th>4</th>\n",
       "      <td>5</td>\n",
       "      <td>Luiz</td>\n",
       "    </tr>\n",
       "    <tr>\n",
       "      <th>6</th>\n",
       "      <td>7</td>\n",
       "      <td>Marcos</td>\n",
       "    </tr>\n",
       "    <tr>\n",
       "      <th>8</th>\n",
       "      <td>9</td>\n",
       "      <td>Diego</td>\n",
       "    </tr>\n",
       "  </tbody>\n",
       "</table>\n",
       "</div>"
      ],
      "text/plain": [
       "   ID    Nome\n",
       "0   1    João\n",
       "2   3   Pedro\n",
       "4   5    Luiz\n",
       "6   7  Marcos\n",
       "8   9   Diego"
      ]
     },
     "execution_count": 14,
     "metadata": {},
     "output_type": "execute_result"
    }
   ],
   "source": [
    "# Tudo que existe na tabela A, mas que não tenha o ID na tabela B\n",
    "r1 = tabela_A[~tabela_A['ID'].isin(tabela_B['ID'])]\n",
    "r1"
   ]
  },
  {
   "cell_type": "code",
   "execution_count": 15,
   "metadata": {
    "id": "NEHscuqlk82h",
    "slideshow": {
     "slide_type": "subslide"
    }
   },
   "outputs": [
    {
     "data": {
      "text/html": [
       "<div>\n",
       "<style scoped>\n",
       "    .dataframe tbody tr th:only-of-type {\n",
       "        vertical-align: middle;\n",
       "    }\n",
       "\n",
       "    .dataframe tbody tr th {\n",
       "        vertical-align: top;\n",
       "    }\n",
       "\n",
       "    .dataframe thead th {\n",
       "        text-align: right;\n",
       "    }\n",
       "</style>\n",
       "<table border=\"1\" class=\"dataframe\">\n",
       "  <thead>\n",
       "    <tr style=\"text-align: right;\">\n",
       "      <th></th>\n",
       "      <th>ID</th>\n",
       "      <th>Nome</th>\n",
       "    </tr>\n",
       "  </thead>\n",
       "  <tbody>\n",
       "    <tr>\n",
       "      <th>5</th>\n",
       "      <td>12</td>\n",
       "      <td>Vitória</td>\n",
       "    </tr>\n",
       "  </tbody>\n",
       "</table>\n",
       "</div>"
      ],
      "text/plain": [
       "   ID     Nome\n",
       "5  12  Vitória"
      ]
     },
     "execution_count": 15,
     "metadata": {},
     "output_type": "execute_result"
    }
   ],
   "source": [
    "# Tudo que existe na tabela B, mas que não tenha o ID na tabela A\n",
    "r2 = tabela_B[~tabela_B['ID'].isin(tabela_A['ID'])]\n",
    "r2"
   ]
  },
  {
   "cell_type": "code",
   "execution_count": 16,
   "metadata": {
    "id": "eVFEZoanlBNt",
    "slideshow": {
     "slide_type": "subslide"
    }
   },
   "outputs": [
    {
     "data": {
      "text/html": [
       "<div>\n",
       "<style scoped>\n",
       "    .dataframe tbody tr th:only-of-type {\n",
       "        vertical-align: middle;\n",
       "    }\n",
       "\n",
       "    .dataframe tbody tr th {\n",
       "        vertical-align: top;\n",
       "    }\n",
       "\n",
       "    .dataframe thead th {\n",
       "        text-align: right;\n",
       "    }\n",
       "</style>\n",
       "<table border=\"1\" class=\"dataframe\">\n",
       "  <thead>\n",
       "    <tr style=\"text-align: right;\">\n",
       "      <th></th>\n",
       "      <th>ID</th>\n",
       "      <th>Nome</th>\n",
       "    </tr>\n",
       "  </thead>\n",
       "  <tbody>\n",
       "    <tr>\n",
       "      <th>0</th>\n",
       "      <td>1</td>\n",
       "      <td>João</td>\n",
       "    </tr>\n",
       "    <tr>\n",
       "      <th>1</th>\n",
       "      <td>3</td>\n",
       "      <td>Pedro</td>\n",
       "    </tr>\n",
       "    <tr>\n",
       "      <th>2</th>\n",
       "      <td>5</td>\n",
       "      <td>Luiz</td>\n",
       "    </tr>\n",
       "    <tr>\n",
       "      <th>3</th>\n",
       "      <td>7</td>\n",
       "      <td>Marcos</td>\n",
       "    </tr>\n",
       "    <tr>\n",
       "      <th>4</th>\n",
       "      <td>9</td>\n",
       "      <td>Diego</td>\n",
       "    </tr>\n",
       "    <tr>\n",
       "      <th>5</th>\n",
       "      <td>12</td>\n",
       "      <td>Vitória</td>\n",
       "    </tr>\n",
       "  </tbody>\n",
       "</table>\n",
       "</div>"
      ],
      "text/plain": [
       "   ID     Nome\n",
       "0   1     João\n",
       "1   3    Pedro\n",
       "2   5     Luiz\n",
       "3   7   Marcos\n",
       "4   9    Diego\n",
       "5  12  Vitória"
      ]
     },
     "execution_count": 16,
     "metadata": {},
     "output_type": "execute_result"
    }
   ],
   "source": [
    "# juntando os resultados\n",
    "# full_outer_join = pd.concat([r1, r2])\n",
    "full_outer_join = pd.concat([r1, r2]).reset_index(drop=True)\n",
    "full_outer_join"
   ]
  },
  {
   "cell_type": "markdown",
   "metadata": {
    "id": "IpH9qowrMX5q",
    "slideshow": {
     "slide_type": "slide"
    }
   },
   "source": [
    "## Cross Join\n",
    "\n",
    "<img src=\"https://i1.wp.com/paulohcc.com/wp-content/uploads/2020/09/CROSS-JOIN.png?w=635&ssl=1\">"
   ]
  },
  {
   "cell_type": "code",
   "execution_count": 18,
   "metadata": {
    "id": "IMVM3m4-fuK4",
    "scrolled": true,
    "slideshow": {
     "slide_type": "subslide"
    }
   },
   "outputs": [
    {
     "data": {
      "text/html": [
       "<div>\n",
       "<style scoped>\n",
       "    .dataframe tbody tr th:only-of-type {\n",
       "        vertical-align: middle;\n",
       "    }\n",
       "\n",
       "    .dataframe tbody tr th {\n",
       "        vertical-align: top;\n",
       "    }\n",
       "\n",
       "    .dataframe thead th {\n",
       "        text-align: right;\n",
       "    }\n",
       "</style>\n",
       "<table border=\"1\" class=\"dataframe\">\n",
       "  <thead>\n",
       "    <tr style=\"text-align: right;\">\n",
       "      <th></th>\n",
       "      <th>ID_x</th>\n",
       "      <th>Nome_x</th>\n",
       "      <th>ID_y</th>\n",
       "      <th>Nome_y</th>\n",
       "    </tr>\n",
       "  </thead>\n",
       "  <tbody>\n",
       "    <tr>\n",
       "      <th>0</th>\n",
       "      <td>1</td>\n",
       "      <td>João</td>\n",
       "      <td>2</td>\n",
       "      <td>Sofia</td>\n",
       "    </tr>\n",
       "    <tr>\n",
       "      <th>1</th>\n",
       "      <td>1</td>\n",
       "      <td>João</td>\n",
       "      <td>4</td>\n",
       "      <td>Deise</td>\n",
       "    </tr>\n",
       "    <tr>\n",
       "      <th>2</th>\n",
       "      <td>1</td>\n",
       "      <td>João</td>\n",
       "      <td>6</td>\n",
       "      <td>Luiza</td>\n",
       "    </tr>\n",
       "    <tr>\n",
       "      <th>3</th>\n",
       "      <td>1</td>\n",
       "      <td>João</td>\n",
       "      <td>8</td>\n",
       "      <td>Claudia</td>\n",
       "    </tr>\n",
       "    <tr>\n",
       "      <th>4</th>\n",
       "      <td>1</td>\n",
       "      <td>João</td>\n",
       "      <td>10</td>\n",
       "      <td>Beatriz</td>\n",
       "    </tr>\n",
       "    <tr>\n",
       "      <th>5</th>\n",
       "      <td>1</td>\n",
       "      <td>João</td>\n",
       "      <td>12</td>\n",
       "      <td>Vitória</td>\n",
       "    </tr>\n",
       "    <tr>\n",
       "      <th>6</th>\n",
       "      <td>2</td>\n",
       "      <td>Mario</td>\n",
       "      <td>2</td>\n",
       "      <td>Sofia</td>\n",
       "    </tr>\n",
       "    <tr>\n",
       "      <th>7</th>\n",
       "      <td>2</td>\n",
       "      <td>Mario</td>\n",
       "      <td>4</td>\n",
       "      <td>Deise</td>\n",
       "    </tr>\n",
       "    <tr>\n",
       "      <th>8</th>\n",
       "      <td>2</td>\n",
       "      <td>Mario</td>\n",
       "      <td>6</td>\n",
       "      <td>Luiza</td>\n",
       "    </tr>\n",
       "    <tr>\n",
       "      <th>9</th>\n",
       "      <td>2</td>\n",
       "      <td>Mario</td>\n",
       "      <td>8</td>\n",
       "      <td>Claudia</td>\n",
       "    </tr>\n",
       "    <tr>\n",
       "      <th>10</th>\n",
       "      <td>2</td>\n",
       "      <td>Mario</td>\n",
       "      <td>10</td>\n",
       "      <td>Beatriz</td>\n",
       "    </tr>\n",
       "    <tr>\n",
       "      <th>11</th>\n",
       "      <td>2</td>\n",
       "      <td>Mario</td>\n",
       "      <td>12</td>\n",
       "      <td>Vitória</td>\n",
       "    </tr>\n",
       "    <tr>\n",
       "      <th>12</th>\n",
       "      <td>3</td>\n",
       "      <td>Pedro</td>\n",
       "      <td>2</td>\n",
       "      <td>Sofia</td>\n",
       "    </tr>\n",
       "    <tr>\n",
       "      <th>13</th>\n",
       "      <td>3</td>\n",
       "      <td>Pedro</td>\n",
       "      <td>4</td>\n",
       "      <td>Deise</td>\n",
       "    </tr>\n",
       "    <tr>\n",
       "      <th>14</th>\n",
       "      <td>3</td>\n",
       "      <td>Pedro</td>\n",
       "      <td>6</td>\n",
       "      <td>Luiza</td>\n",
       "    </tr>\n",
       "    <tr>\n",
       "      <th>15</th>\n",
       "      <td>3</td>\n",
       "      <td>Pedro</td>\n",
       "      <td>8</td>\n",
       "      <td>Claudia</td>\n",
       "    </tr>\n",
       "    <tr>\n",
       "      <th>16</th>\n",
       "      <td>3</td>\n",
       "      <td>Pedro</td>\n",
       "      <td>10</td>\n",
       "      <td>Beatriz</td>\n",
       "    </tr>\n",
       "    <tr>\n",
       "      <th>17</th>\n",
       "      <td>3</td>\n",
       "      <td>Pedro</td>\n",
       "      <td>12</td>\n",
       "      <td>Vitória</td>\n",
       "    </tr>\n",
       "    <tr>\n",
       "      <th>18</th>\n",
       "      <td>4</td>\n",
       "      <td>Andre</td>\n",
       "      <td>2</td>\n",
       "      <td>Sofia</td>\n",
       "    </tr>\n",
       "    <tr>\n",
       "      <th>19</th>\n",
       "      <td>4</td>\n",
       "      <td>Andre</td>\n",
       "      <td>4</td>\n",
       "      <td>Deise</td>\n",
       "    </tr>\n",
       "    <tr>\n",
       "      <th>20</th>\n",
       "      <td>4</td>\n",
       "      <td>Andre</td>\n",
       "      <td>6</td>\n",
       "      <td>Luiza</td>\n",
       "    </tr>\n",
       "    <tr>\n",
       "      <th>21</th>\n",
       "      <td>4</td>\n",
       "      <td>Andre</td>\n",
       "      <td>8</td>\n",
       "      <td>Claudia</td>\n",
       "    </tr>\n",
       "    <tr>\n",
       "      <th>22</th>\n",
       "      <td>4</td>\n",
       "      <td>Andre</td>\n",
       "      <td>10</td>\n",
       "      <td>Beatriz</td>\n",
       "    </tr>\n",
       "    <tr>\n",
       "      <th>23</th>\n",
       "      <td>4</td>\n",
       "      <td>Andre</td>\n",
       "      <td>12</td>\n",
       "      <td>Vitória</td>\n",
       "    </tr>\n",
       "    <tr>\n",
       "      <th>24</th>\n",
       "      <td>5</td>\n",
       "      <td>Luiz</td>\n",
       "      <td>2</td>\n",
       "      <td>Sofia</td>\n",
       "    </tr>\n",
       "    <tr>\n",
       "      <th>25</th>\n",
       "      <td>5</td>\n",
       "      <td>Luiz</td>\n",
       "      <td>4</td>\n",
       "      <td>Deise</td>\n",
       "    </tr>\n",
       "    <tr>\n",
       "      <th>26</th>\n",
       "      <td>5</td>\n",
       "      <td>Luiz</td>\n",
       "      <td>6</td>\n",
       "      <td>Luiza</td>\n",
       "    </tr>\n",
       "    <tr>\n",
       "      <th>27</th>\n",
       "      <td>5</td>\n",
       "      <td>Luiz</td>\n",
       "      <td>8</td>\n",
       "      <td>Claudia</td>\n",
       "    </tr>\n",
       "    <tr>\n",
       "      <th>28</th>\n",
       "      <td>5</td>\n",
       "      <td>Luiz</td>\n",
       "      <td>10</td>\n",
       "      <td>Beatriz</td>\n",
       "    </tr>\n",
       "    <tr>\n",
       "      <th>29</th>\n",
       "      <td>5</td>\n",
       "      <td>Luiz</td>\n",
       "      <td>12</td>\n",
       "      <td>Vitória</td>\n",
       "    </tr>\n",
       "    <tr>\n",
       "      <th>30</th>\n",
       "      <td>6</td>\n",
       "      <td>Carlos</td>\n",
       "      <td>2</td>\n",
       "      <td>Sofia</td>\n",
       "    </tr>\n",
       "    <tr>\n",
       "      <th>31</th>\n",
       "      <td>6</td>\n",
       "      <td>Carlos</td>\n",
       "      <td>4</td>\n",
       "      <td>Deise</td>\n",
       "    </tr>\n",
       "    <tr>\n",
       "      <th>32</th>\n",
       "      <td>6</td>\n",
       "      <td>Carlos</td>\n",
       "      <td>6</td>\n",
       "      <td>Luiza</td>\n",
       "    </tr>\n",
       "    <tr>\n",
       "      <th>33</th>\n",
       "      <td>6</td>\n",
       "      <td>Carlos</td>\n",
       "      <td>8</td>\n",
       "      <td>Claudia</td>\n",
       "    </tr>\n",
       "    <tr>\n",
       "      <th>34</th>\n",
       "      <td>6</td>\n",
       "      <td>Carlos</td>\n",
       "      <td>10</td>\n",
       "      <td>Beatriz</td>\n",
       "    </tr>\n",
       "    <tr>\n",
       "      <th>35</th>\n",
       "      <td>6</td>\n",
       "      <td>Carlos</td>\n",
       "      <td>12</td>\n",
       "      <td>Vitória</td>\n",
       "    </tr>\n",
       "    <tr>\n",
       "      <th>36</th>\n",
       "      <td>7</td>\n",
       "      <td>Marcos</td>\n",
       "      <td>2</td>\n",
       "      <td>Sofia</td>\n",
       "    </tr>\n",
       "    <tr>\n",
       "      <th>37</th>\n",
       "      <td>7</td>\n",
       "      <td>Marcos</td>\n",
       "      <td>4</td>\n",
       "      <td>Deise</td>\n",
       "    </tr>\n",
       "    <tr>\n",
       "      <th>38</th>\n",
       "      <td>7</td>\n",
       "      <td>Marcos</td>\n",
       "      <td>6</td>\n",
       "      <td>Luiza</td>\n",
       "    </tr>\n",
       "    <tr>\n",
       "      <th>39</th>\n",
       "      <td>7</td>\n",
       "      <td>Marcos</td>\n",
       "      <td>8</td>\n",
       "      <td>Claudia</td>\n",
       "    </tr>\n",
       "    <tr>\n",
       "      <th>40</th>\n",
       "      <td>7</td>\n",
       "      <td>Marcos</td>\n",
       "      <td>10</td>\n",
       "      <td>Beatriz</td>\n",
       "    </tr>\n",
       "    <tr>\n",
       "      <th>41</th>\n",
       "      <td>7</td>\n",
       "      <td>Marcos</td>\n",
       "      <td>12</td>\n",
       "      <td>Vitória</td>\n",
       "    </tr>\n",
       "    <tr>\n",
       "      <th>42</th>\n",
       "      <td>8</td>\n",
       "      <td>Rafael</td>\n",
       "      <td>2</td>\n",
       "      <td>Sofia</td>\n",
       "    </tr>\n",
       "    <tr>\n",
       "      <th>43</th>\n",
       "      <td>8</td>\n",
       "      <td>Rafael</td>\n",
       "      <td>4</td>\n",
       "      <td>Deise</td>\n",
       "    </tr>\n",
       "    <tr>\n",
       "      <th>44</th>\n",
       "      <td>8</td>\n",
       "      <td>Rafael</td>\n",
       "      <td>6</td>\n",
       "      <td>Luiza</td>\n",
       "    </tr>\n",
       "    <tr>\n",
       "      <th>45</th>\n",
       "      <td>8</td>\n",
       "      <td>Rafael</td>\n",
       "      <td>8</td>\n",
       "      <td>Claudia</td>\n",
       "    </tr>\n",
       "    <tr>\n",
       "      <th>46</th>\n",
       "      <td>8</td>\n",
       "      <td>Rafael</td>\n",
       "      <td>10</td>\n",
       "      <td>Beatriz</td>\n",
       "    </tr>\n",
       "    <tr>\n",
       "      <th>47</th>\n",
       "      <td>8</td>\n",
       "      <td>Rafael</td>\n",
       "      <td>12</td>\n",
       "      <td>Vitória</td>\n",
       "    </tr>\n",
       "    <tr>\n",
       "      <th>48</th>\n",
       "      <td>9</td>\n",
       "      <td>Diego</td>\n",
       "      <td>2</td>\n",
       "      <td>Sofia</td>\n",
       "    </tr>\n",
       "    <tr>\n",
       "      <th>49</th>\n",
       "      <td>9</td>\n",
       "      <td>Diego</td>\n",
       "      <td>4</td>\n",
       "      <td>Deise</td>\n",
       "    </tr>\n",
       "    <tr>\n",
       "      <th>50</th>\n",
       "      <td>9</td>\n",
       "      <td>Diego</td>\n",
       "      <td>6</td>\n",
       "      <td>Luiza</td>\n",
       "    </tr>\n",
       "    <tr>\n",
       "      <th>51</th>\n",
       "      <td>9</td>\n",
       "      <td>Diego</td>\n",
       "      <td>8</td>\n",
       "      <td>Claudia</td>\n",
       "    </tr>\n",
       "    <tr>\n",
       "      <th>52</th>\n",
       "      <td>9</td>\n",
       "      <td>Diego</td>\n",
       "      <td>10</td>\n",
       "      <td>Beatriz</td>\n",
       "    </tr>\n",
       "    <tr>\n",
       "      <th>53</th>\n",
       "      <td>9</td>\n",
       "      <td>Diego</td>\n",
       "      <td>12</td>\n",
       "      <td>Vitória</td>\n",
       "    </tr>\n",
       "    <tr>\n",
       "      <th>54</th>\n",
       "      <td>10</td>\n",
       "      <td>Leandro</td>\n",
       "      <td>2</td>\n",
       "      <td>Sofia</td>\n",
       "    </tr>\n",
       "    <tr>\n",
       "      <th>55</th>\n",
       "      <td>10</td>\n",
       "      <td>Leandro</td>\n",
       "      <td>4</td>\n",
       "      <td>Deise</td>\n",
       "    </tr>\n",
       "    <tr>\n",
       "      <th>56</th>\n",
       "      <td>10</td>\n",
       "      <td>Leandro</td>\n",
       "      <td>6</td>\n",
       "      <td>Luiza</td>\n",
       "    </tr>\n",
       "    <tr>\n",
       "      <th>57</th>\n",
       "      <td>10</td>\n",
       "      <td>Leandro</td>\n",
       "      <td>8</td>\n",
       "      <td>Claudia</td>\n",
       "    </tr>\n",
       "    <tr>\n",
       "      <th>58</th>\n",
       "      <td>10</td>\n",
       "      <td>Leandro</td>\n",
       "      <td>10</td>\n",
       "      <td>Beatriz</td>\n",
       "    </tr>\n",
       "    <tr>\n",
       "      <th>59</th>\n",
       "      <td>10</td>\n",
       "      <td>Leandro</td>\n",
       "      <td>12</td>\n",
       "      <td>Vitória</td>\n",
       "    </tr>\n",
       "  </tbody>\n",
       "</table>\n",
       "</div>"
      ],
      "text/plain": [
       "    ID_x   Nome_x  ID_y   Nome_y\n",
       "0      1     João     2    Sofia\n",
       "1      1     João     4    Deise\n",
       "2      1     João     6    Luiza\n",
       "3      1     João     8  Claudia\n",
       "4      1     João    10  Beatriz\n",
       "5      1     João    12  Vitória\n",
       "6      2    Mario     2    Sofia\n",
       "7      2    Mario     4    Deise\n",
       "8      2    Mario     6    Luiza\n",
       "9      2    Mario     8  Claudia\n",
       "10     2    Mario    10  Beatriz\n",
       "11     2    Mario    12  Vitória\n",
       "12     3    Pedro     2    Sofia\n",
       "13     3    Pedro     4    Deise\n",
       "14     3    Pedro     6    Luiza\n",
       "15     3    Pedro     8  Claudia\n",
       "16     3    Pedro    10  Beatriz\n",
       "17     3    Pedro    12  Vitória\n",
       "18     4    Andre     2    Sofia\n",
       "19     4    Andre     4    Deise\n",
       "20     4    Andre     6    Luiza\n",
       "21     4    Andre     8  Claudia\n",
       "22     4    Andre    10  Beatriz\n",
       "23     4    Andre    12  Vitória\n",
       "24     5     Luiz     2    Sofia\n",
       "25     5     Luiz     4    Deise\n",
       "26     5     Luiz     6    Luiza\n",
       "27     5     Luiz     8  Claudia\n",
       "28     5     Luiz    10  Beatriz\n",
       "29     5     Luiz    12  Vitória\n",
       "30     6   Carlos     2    Sofia\n",
       "31     6   Carlos     4    Deise\n",
       "32     6   Carlos     6    Luiza\n",
       "33     6   Carlos     8  Claudia\n",
       "34     6   Carlos    10  Beatriz\n",
       "35     6   Carlos    12  Vitória\n",
       "36     7   Marcos     2    Sofia\n",
       "37     7   Marcos     4    Deise\n",
       "38     7   Marcos     6    Luiza\n",
       "39     7   Marcos     8  Claudia\n",
       "40     7   Marcos    10  Beatriz\n",
       "41     7   Marcos    12  Vitória\n",
       "42     8   Rafael     2    Sofia\n",
       "43     8   Rafael     4    Deise\n",
       "44     8   Rafael     6    Luiza\n",
       "45     8   Rafael     8  Claudia\n",
       "46     8   Rafael    10  Beatriz\n",
       "47     8   Rafael    12  Vitória\n",
       "48     9    Diego     2    Sofia\n",
       "49     9    Diego     4    Deise\n",
       "50     9    Diego     6    Luiza\n",
       "51     9    Diego     8  Claudia\n",
       "52     9    Diego    10  Beatriz\n",
       "53     9    Diego    12  Vitória\n",
       "54    10  Leandro     2    Sofia\n",
       "55    10  Leandro     4    Deise\n",
       "56    10  Leandro     6    Luiza\n",
       "57    10  Leandro     8  Claudia\n",
       "58    10  Leandro    10  Beatriz\n",
       "59    10  Leandro    12  Vitória"
      ]
     },
     "execution_count": 18,
     "metadata": {},
     "output_type": "execute_result"
    }
   ],
   "source": [
    "cross_join = pd.merge(tabela_A, tabela_B, how=\"cross\")\n",
    "cross_join"
   ]
  }
 ],
 "metadata": {
  "celltoolbar": "Slideshow",
  "colab": {
   "collapsed_sections": [
    "YDRdfTLzPQw0"
   ],
   "provenance": [],
   "toc_visible": true
  },
  "kernelspec": {
   "display_name": "Python 3",
   "language": "python",
   "name": "python3"
  },
  "language_info": {
   "codemirror_mode": {
    "name": "ipython",
    "version": 3
   },
   "file_extension": ".py",
   "mimetype": "text/x-python",
   "name": "python",
   "nbconvert_exporter": "python",
   "pygments_lexer": "ipython3",
   "version": "3.7.6"
  }
 },
 "nbformat": 4,
 "nbformat_minor": 1
}
